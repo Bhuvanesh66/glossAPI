{
 "cells": [
  {
   "cell_type": "code",
   "execution_count": 12,
   "metadata": {},
   "outputs": [],
   "source": [
    "import numpy as np"
   ]
  },
  {
   "cell_type": "markdown",
   "metadata": {},
   "source": [
    "Open file and enumerate and replace all characters with a number"
   ]
  },
  {
   "cell_type": "code",
   "execution_count": 13,
   "metadata": {},
   "outputs": [
    {
     "name": "stdout",
     "output_type": "stream",
     "text": [
      "{} EAF mmmm ΛωΛ 123\n",
      "newline πογψηαμπ\n",
      "[(0, 'F'), (1, 'ο'), (2, 'α'), (3, 'η'), (4, 'ω'), (5, '{'), (6, '}'), (7, 'e'), (8, 'i'), (9, 'm'), (10, '1'), (11, 'π'), (12, 'l'), (13, 'E'), (14, 'Λ'), (15, '3'), (16, '\\n'), (17, 'n'), (18, 'μ'), (19, 'ψ'), (20, ' '), (21, 'w'), (22, 'A'), (23, 'γ'), (24, '2')]\n",
      "[5, 6, 20, 13, 22, 0, 20, 9, 9, 9, 9, 20, 14, 4, 14, 20, 10, 24, 15, 16, 17, 7, 21, 12, 8, 17, 7, 20, 11, 1, 23, 19, 3, 2, 18, 11]\n"
     ]
    }
   ],
   "source": [
    "file = open(\"text.txt\",encoding='utf-8')\n",
    "\n",
    "text = \"\"\n",
    "\n",
    "for line in file :\n",
    "    text = text+line\n",
    "print(text)\n",
    "\n",
    "chars = list(set(text))\n",
    "table = []\n",
    "\n",
    "for i,c in enumerate(chars) :\n",
    "    table.append((i,c))\n",
    "\n",
    "print(table)\n",
    "enum_text = []\n",
    "\n",
    "#find and replace all characters with their enum\n",
    "\n",
    "for c in text :\n",
    "    for i in table :\n",
    "        if i[1] == c :\n",
    "            enum_text.append(i[0])\n",
    "            break\n",
    "print(enum_text)"
   ]
  },
  {
   "cell_type": "markdown",
   "metadata": {},
   "source": [
    "Find most common pair and add it to enumeration list  \n",
    "Form of new tuple : (NUM,ORIGINAL_NUM_LEFT,ORIGINAL_NUM_RIGHT,CONCATINATION_OF_OLD_STRINGS)  \n",
    "Major TO-DO turn into function"
   ]
  },
  {
   "cell_type": "code",
   "execution_count": 14,
   "metadata": {},
   "outputs": [
    {
     "name": "stdout",
     "output_type": "stream",
     "text": [
      "[(0, 'F'), (1, 'ο'), (2, 'α'), (3, 'η'), (4, 'ω'), (5, '{'), (6, '}'), (7, 'e'), (8, 'i'), (9, 'm'), (10, '1'), (11, 'π'), (12, 'l'), (13, 'E'), (14, 'Λ'), (15, '3'), (16, '\\n'), (17, 'n'), (18, 'μ'), (19, 'ψ'), (20, ' '), (21, 'w'), (22, 'A'), (23, 'γ'), (24, '2'), (25, 9, 9, 'mm')]\n"
     ]
    }
   ],
   "source": [
    "freq_table = np.zeros((len(table),len(table)),dtype=int)\n",
    "for pos,i in enumerate(enum_text) :\n",
    "    if pos == len(enum_text) - 1 :\n",
    "        break\n",
    "    j = pos+1\n",
    "    freq_table[int(i)][int(enum_text[j])] = freq_table[int(i)][int(enum_text[j])] + 1\n",
    "\n",
    "maxindex = np.unravel_index(np.argmax(freq_table, axis=None), freq_table.shape)\n",
    "table.append((len(table),table[maxindex[0]][0],table[maxindex[1]][0],table[maxindex[0]][1]+table[maxindex[1]][1]))\n",
    "print(table)"
   ]
  },
  {
   "cell_type": "markdown",
   "metadata": {},
   "source": [
    "Take table and re-enumerate text  \n",
    "Because new element is always added at end of list we need to only check against it  \n",
    "Major TO DO turn into function"
   ]
  },
  {
   "cell_type": "code",
   "execution_count": 15,
   "metadata": {},
   "outputs": [
    {
     "name": "stdout",
     "output_type": "stream",
     "text": [
      "[5, 6, 20, 13, 22, 0, 20, 25, 25, 20, 14, 4, 14, 20, 10, 24, 15, 16, 17, 7, 21, 12, 8, 17, 7, 20, 11, 1, 23, 19, 3, 2, 18, 11]\n"
     ]
    }
   ],
   "source": [
    "new_element = table[-1]\n",
    "for pos,i in enumerate(enum_text) :\n",
    "    if pos == len(enum_text) - 1 :\n",
    "        break\n",
    "    j = pos+1\n",
    "    if new_element[1] == i :\n",
    "        if new_element[2] == enum_text[j] :\n",
    "            enum_text[pos] = new_element[0]\n",
    "            del(enum_text[j])\n",
    "print(enum_text)"
   ]
  },
  {
   "cell_type": "markdown",
   "metadata": {},
   "source": [
    "TO-DO add loop to layer the above properly and cap it at max vocabulary size"
   ]
  }
 ],
 "metadata": {
  "kernelspec": {
   "display_name": "Python 3",
   "language": "python",
   "name": "python3"
  },
  "language_info": {
   "codemirror_mode": {
    "name": "ipython",
    "version": 3
   },
   "file_extension": ".py",
   "mimetype": "text/x-python",
   "name": "python",
   "nbconvert_exporter": "python",
   "pygments_lexer": "ipython3",
   "version": "3.10.0"
  }
 },
 "nbformat": 4,
 "nbformat_minor": 2
}
