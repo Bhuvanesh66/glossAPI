{
 "cells": [
  {
   "cell_type": "code",
   "execution_count": 1,
   "id": "e7063190-3c62-4d2b-9f17-cd4d6697e233",
   "metadata": {
    "tags": []
   },
   "outputs": [],
   "source": [
    "import os\n",
    "os.environ[\"WANDB_DISABLED\"] = \"true\"\n",
    "os.environ[\"TOKENIZERS_PARALLELISM\"] = \"false\""
   ]
  },
  {
   "cell_type": "code",
   "execution_count": 2,
   "id": "3e971008-c8ea-431c-a84b-52a8531cc4b6",
   "metadata": {
    "tags": []
   },
   "outputs": [
    {
     "name": "stderr",
     "output_type": "stream",
     "text": [
      "2024-09-06 07:39:08.755777: E external/local_xla/xla/stream_executor/cuda/cuda_dnn.cc:9261] Unable to register cuDNN factory: Attempting to register factory for plugin cuDNN when one has already been registered\n",
      "2024-09-06 07:39:08.755873: E external/local_xla/xla/stream_executor/cuda/cuda_fft.cc:607] Unable to register cuFFT factory: Attempting to register factory for plugin cuFFT when one has already been registered\n",
      "2024-09-06 07:39:08.758162: E external/local_xla/xla/stream_executor/cuda/cuda_blas.cc:1515] Unable to register cuBLAS factory: Attempting to register factory for plugin cuBLAS when one has already been registered\n",
      "2024-09-06 07:39:08.773280: I tensorflow/core/platform/cpu_feature_guard.cc:182] This TensorFlow binary is optimized to use available CPU instructions in performance-critical operations.\n",
      "To enable the following instructions: AVX2 FMA, in other operations, rebuild TensorFlow with the appropriate compiler flags.\n",
      "2024-09-06 07:39:10.593585: W tensorflow/compiler/tf2tensorrt/utils/py_utils.cc:38] TF-TRT Warning: Could not find TensorRT\n"
     ]
    }
   ],
   "source": [
    "import pandas as pd\n",
    "import numpy as np\n",
    "from sklearn.model_selection import train_test_split\n",
    "from transformers import AutoTokenizer, TrainingArguments, Trainer\n",
    "import torch\n",
    "from torch import nn\n",
    "from transformers import AutoModel, AutoConfig\n",
    "from sklearn.preprocessing import LabelEncoder\n",
    "from sklearn.metrics import accuracy_score, precision_recall_fscore_support, confusion_matrix\n",
    "import seaborn as sns\n",
    "import matplotlib.pyplot as plt"
   ]
  },
  {
   "cell_type": "code",
   "execution_count": 3,
   "id": "9be316ae-3ace-45c9-84c1-69f06b6a85d7",
   "metadata": {
    "tags": []
   },
   "outputs": [],
   "source": [
    "new_data = pd.read_csv(\"dataset_Sep_3_masked.csv\", sep=\",\", engine=\"python\")"
   ]
  },
  {
   "cell_type": "code",
   "execution_count": 4,
   "id": "f17d1888-6356-4b4e-9a6a-eb173e8cc870",
   "metadata": {
    "tags": []
   },
   "outputs": [
    {
     "data": {
      "application/vnd.jupyter.widget-view+json": {
       "model_id": "edf0731e88f040fca8d4f9d82d7d4e32",
       "version_major": 2,
       "version_minor": 0
      },
      "text/plain": [
       "tokenizer_config.json:   0%|          | 0.00/2.00 [00:00<?, ?B/s]"
      ]
     },
     "metadata": {},
     "output_type": "display_data"
    },
    {
     "data": {
      "application/vnd.jupyter.widget-view+json": {
       "model_id": "1e2c98e64b384b44bcb39ff3bbfb7de3",
       "version_major": 2,
       "version_minor": 0
      },
      "text/plain": [
       "config.json:   0%|          | 0.00/459 [00:00<?, ?B/s]"
      ]
     },
     "metadata": {},
     "output_type": "display_data"
    },
    {
     "data": {
      "application/vnd.jupyter.widget-view+json": {
       "model_id": "20c7e2df037e42d39f8f0372f248458f",
       "version_major": 2,
       "version_minor": 0
      },
      "text/plain": [
       "vocab.txt:   0%|          | 0.00/530k [00:00<?, ?B/s]"
      ]
     },
     "metadata": {},
     "output_type": "display_data"
    },
    {
     "data": {
      "application/vnd.jupyter.widget-view+json": {
       "model_id": "787d9bcd8bab418388fbd93069adba31",
       "version_major": 2,
       "version_minor": 0
      },
      "text/plain": [
       "special_tokens_map.json:   0%|          | 0.00/112 [00:00<?, ?B/s]"
      ]
     },
     "metadata": {},
     "output_type": "display_data"
    }
   ],
   "source": [
    "# Prepare the data\n",
    "sentences = new_data['text'].values\n",
    "labels = new_data['archaia_or_not'].values\n",
    "\n",
    "# Encode the labels\n",
    "label_encoder = LabelEncoder()\n",
    "encoded_labels = label_encoder.fit_transform(labels)\n",
    "\n",
    "# Split the data\n",
    "train_sentences, temp_sentences, train_labels, temp_labels = train_test_split(sentences, encoded_labels, \n",
    "                                                                              test_size=0.3, random_state=42, stratify=encoded_labels)\n",
    "val_sentences, dev_sentences, val_labels, dev_labels = train_test_split(temp_sentences, temp_labels,\n",
    "                                                                        test_size=0.5, random_state=42, stratify=temp_labels)\n",
    "\n",
    "tokenizer = AutoTokenizer.from_pretrained(\"nlpaueb/bert-base-greek-uncased-v1\")"
   ]
  },
  {
   "cell_type": "code",
   "execution_count": 5,
   "id": "0175c90b-47b5-4a75-9da5-6d2c17c997f2",
   "metadata": {
    "tags": []
   },
   "outputs": [
    {
     "name": "stdout",
     "output_type": "stream",
     "text": [
      "\n",
      "Training set label distribution:\n",
      "Label 0: 214\n",
      "Label 1: 1144\n",
      "\n",
      "Validation set label distribution:\n",
      "Label 0: 46\n",
      "Label 1: 245\n",
      "\n",
      "Dev set label distribution:\n",
      "Label 0: 46\n",
      "Label 1: 245\n"
     ]
    }
   ],
   "source": [
    "# Print label distribution\n",
    "def print_label_distribution(labels, name):\n",
    "    unique, counts = np.unique(labels, return_counts=True)\n",
    "    print(f\"\\n{name} set label distribution:\")\n",
    "    for label, count in zip(unique, counts):\n",
    "        print(f\"Label {label}: {count}\")\n",
    "\n",
    "print_label_distribution(train_labels, \"Training\")\n",
    "print_label_distribution(val_labels, \"Validation\")\n",
    "print_label_distribution(dev_labels, \"Dev\")\n",
    "\n",
    "# Tokenize and prepare the dataset\n",
    "max_length = 512\n",
    "train_encodings = tokenizer(train_sentences.tolist(), truncation=True, padding=True, max_length=max_length)\n",
    "val_encodings = tokenizer(val_sentences.tolist(), truncation=True, padding=True, max_length=max_length)\n",
    "dev_encodings = tokenizer(dev_sentences.tolist(), truncation=True, padding=True, max_length=max_length)"
   ]
  },
  {
   "cell_type": "code",
   "execution_count": 6,
   "id": "b55164e9-125f-4edf-9fe8-28455d7d07b2",
   "metadata": {
    "tags": []
   },
   "outputs": [],
   "source": [
    "# Define the model\n",
    "class BertForSequenceClassification(nn.Module):\n",
    "    def __init__(self, model_name_or_path, num_labels=2):\n",
    "        super(BertForSequenceClassification, self).__init__()\n",
    "        self.num_labels = num_labels\n",
    "        self.config = AutoConfig.from_pretrained(model_name_or_path)\n",
    "        self.bert = AutoModel.from_pretrained(model_name_or_path, config=self.config)\n",
    "        self.classifier = nn.Sequential(\n",
    "            nn.Linear(self.bert.config.hidden_size, 256),\n",
    "            nn.Dropout(0.1),\n",
    "            nn.Linear(256, num_labels),\n",
    "        )\n",
    "        self.init_weights()\n",
    "\n",
    "    def init_weights(self):\n",
    "        for module in self.classifier:\n",
    "            if isinstance(module, nn.Linear):\n",
    "                nn.init.xavier_uniform_(module.weight)\n",
    "                if module.bias is not None:\n",
    "                    nn.init.zeros_(module.bias)\n",
    "\n",
    "    def forward(self, input_ids=None, attention_mask=None, token_type_ids=None, labels=None):\n",
    "        outputs = self.bert(input_ids, attention_mask=attention_mask)\n",
    "        pooler_output = outputs.pooler_output\n",
    "        logits = self.classifier(pooler_output)\n",
    "\n",
    "        loss = None\n",
    "        if labels is not None:\n",
    "            loss_fct = nn.CrossEntropyLoss()\n",
    "            loss = loss_fct(logits.view(-1, self.num_labels), labels.view(-1))\n",
    "\n",
    "        return (loss, logits) if loss is not None else logits\n",
    "    \n",
    "    def save_pretrained(self, save_directory):\n",
    "        os.makedirs(save_directory, exist_ok=True)\n",
    "        self.config.save_pretrained(save_directory)\n",
    "        torch.save(self.state_dict(), os.path.join(save_directory, \"pytorch_model.bin\"))\n",
    "\n",
    "    @classmethod\n",
    "    def from_pretrained(cls, save_directory, model_name_or_path, num_labels=2):\n",
    "        config = AutoConfig.from_pretrained(save_directory)\n",
    "        model = cls(model_name_or_path, num_labels=num_labels)\n",
    "        state_dict = torch.load(os.path.join(save_directory, \"pytorch_model.bin\"), map_location=torch.device('cpu'))\n",
    "        model.load_state_dict(state_dict)\n",
    "        return model"
   ]
  },
  {
   "cell_type": "code",
   "execution_count": 7,
   "id": "f7199568-57ba-4140-9434-69767c9a4954",
   "metadata": {
    "tags": []
   },
   "outputs": [],
   "source": [
    "# Create dataset class\n",
    "class GreekSentencesDataset(torch.utils.data.Dataset):\n",
    "    def __init__(self, encodings, labels):\n",
    "        self.encodings = encodings\n",
    "        self.labels = labels\n",
    "\n",
    "    def __getitem__(self, idx):\n",
    "        item = {key: torch.tensor(val[idx]) for key, val in self.encodings.items()}\n",
    "        item['labels'] = torch.tensor(self.labels[idx], dtype=torch.long)\n",
    "        return item\n",
    "\n",
    "    def __len__(self):\n",
    "        return len(self.labels)"
   ]
  },
  {
   "cell_type": "code",
   "execution_count": 8,
   "id": "c1c0eeac-7156-4137-abeb-096396309973",
   "metadata": {
    "tags": []
   },
   "outputs": [
    {
     "data": {
      "application/vnd.jupyter.widget-view+json": {
       "model_id": "d599dbc853b148a38412781fc0dfc38b",
       "version_major": 2,
       "version_minor": 0
      },
      "text/plain": [
       "pytorch_model.bin:   0%|          | 0.00/454M [00:00<?, ?B/s]"
      ]
     },
     "metadata": {},
     "output_type": "display_data"
    },
    {
     "name": "stderr",
     "output_type": "stream",
     "text": [
      "Using the `WANDB_DISABLED` environment variable is deprecated and will be removed in v5. Use the --report_to flag to control the integrations used for logging result (for instance --report_to none).\n"
     ]
    }
   ],
   "source": [
    "train_dataset = GreekSentencesDataset(train_encodings, train_labels)\n",
    "val_dataset = GreekSentencesDataset(val_encodings, val_labels)\n",
    "dev_dataset = GreekSentencesDataset(dev_encodings, dev_labels)\n",
    "\n",
    "# Initialize the model\n",
    "model_name_or_path = \"nlpaueb/bert-base-greek-uncased-v1\"\n",
    "num_labels = len(label_encoder.classes_)\n",
    "model = BertForSequenceClassification(model_name_or_path, num_labels)\n",
    "\n",
    "# Define training arguments and trainer\n",
    "training_args = TrainingArguments(\n",
    "    output_dir='./results',\n",
    "    num_train_epochs=1,\n",
    "    per_device_train_batch_size=16,\n",
    "    per_device_eval_batch_size=16,\n",
    "    warmup_steps=500,\n",
    "    weight_decay=0.02,\n",
    "    logging_dir='./logs',\n",
    "    logging_steps=10,\n",
    "    evaluation_strategy=\"epoch\",\n",
    "    save_strategy=\"epoch\",\n",
    "    load_best_model_at_end=True,\n",
    ")"
   ]
  },
  {
   "cell_type": "code",
   "execution_count": 9,
   "id": "8f8326f0-258d-4875-85d7-f82cec050c5e",
   "metadata": {
    "tags": []
   },
   "outputs": [],
   "source": [
    "def compute_metrics(pred):\n",
    "    labels = pred.label_ids\n",
    "    preds = pred.predictions.argmax(-1)\n",
    "    precision, recall, f1, _ = precision_recall_fscore_support(labels, preds, average='binary')\n",
    "    acc = accuracy_score(labels, preds)\n",
    "    return {\n",
    "        'accuracy': acc,\n",
    "        'f1': f1,\n",
    "        'precision': precision,\n",
    "        'recall': recall\n",
    "    }\n",
    "\n",
    "trainer = Trainer(\n",
    "    model=model,\n",
    "    args=training_args,\n",
    "    train_dataset=train_dataset,\n",
    "    eval_dataset=val_dataset,\n",
    "    compute_metrics=compute_metrics\n",
    ")"
   ]
  },
  {
   "cell_type": "code",
   "execution_count": 10,
   "id": "eec99140-6c03-492b-b573-4a2353f9e5ad",
   "metadata": {
    "tags": []
   },
   "outputs": [
    {
     "data": {
      "text/html": [
       "\n",
       "    <div>\n",
       "      \n",
       "      <progress value='85' max='85' style='width:300px; height:20px; vertical-align: middle;'></progress>\n",
       "      [85/85 02:12, Epoch 1/1]\n",
       "    </div>\n",
       "    <table border=\"1\" class=\"dataframe\">\n",
       "  <thead>\n",
       " <tr style=\"text-align: left;\">\n",
       "      <th>Epoch</th>\n",
       "      <th>Training Loss</th>\n",
       "      <th>Validation Loss</th>\n",
       "      <th>Accuracy</th>\n",
       "      <th>F1</th>\n",
       "      <th>Precision</th>\n",
       "      <th>Recall</th>\n",
       "    </tr>\n",
       "  </thead>\n",
       "  <tbody>\n",
       "    <tr>\n",
       "      <td>1</td>\n",
       "      <td>0.000900</td>\n",
       "      <td>0.076329</td>\n",
       "      <td>0.989691</td>\n",
       "      <td>0.993915</td>\n",
       "      <td>0.987903</td>\n",
       "      <td>1.000000</td>\n",
       "    </tr>\n",
       "  </tbody>\n",
       "</table><p>"
      ],
      "text/plain": [
       "<IPython.core.display.HTML object>"
      ]
     },
     "metadata": {},
     "output_type": "display_data"
    },
    {
     "data": {
      "text/plain": [
       "TrainOutput(global_step=85, training_loss=0.39309312596040613, metrics={'train_runtime': 134.9228, 'train_samples_per_second': 10.065, 'train_steps_per_second': 0.63, 'total_flos': 0.0, 'train_loss': 0.39309312596040613, 'epoch': 1.0})"
      ]
     },
     "execution_count": 10,
     "metadata": {},
     "output_type": "execute_result"
    }
   ],
   "source": [
    "# Train the model\n",
    "trainer.train()"
   ]
  },
  {
   "cell_type": "code",
   "execution_count": 11,
   "id": "5a874aba-57c9-4f13-9aa1-cc56776a40f1",
   "metadata": {
    "tags": []
   },
   "outputs": [
    {
     "data": {
      "text/html": [],
      "text/plain": [
       "<IPython.core.display.HTML object>"
      ]
     },
     "metadata": {},
     "output_type": "display_data"
    }
   ],
   "source": [
    "# Evaluate on dev set\n",
    "dev_pred = trainer.predict(dev_dataset)\n",
    "dev_preds = dev_pred.predictions.argmax(-1)\n",
    "dev_labels = dev_dataset.labels"
   ]
  },
  {
   "cell_type": "code",
   "execution_count": 12,
   "id": "a2ccba6e-f2e4-4495-bfed-c66f1f73af1a",
   "metadata": {
    "tags": []
   },
   "outputs": [
    {
     "name": "stdout",
     "output_type": "stream",
     "text": [
      "\n",
      "Dev Set Evaluation:\n",
      "Accuracy: 0.9897\n",
      "Precision: 0.9879\n",
      "Recall: 1.0000\n",
      "F1 Score: 0.9939\n"
     ]
    },
    {
     "data": {
      "text/plain": [
       "('./binary_classifier_saved_model/tokenizer_config.json',\n",
       " './binary_classifier_saved_model/special_tokens_map.json',\n",
       " './binary_classifier_saved_model/vocab.txt',\n",
       " './binary_classifier_saved_model/added_tokens.json',\n",
       " './binary_classifier_saved_model/tokenizer.json')"
      ]
     },
     "execution_count": 12,
     "metadata": {},
     "output_type": "execute_result"
    }
   ],
   "source": [
    "dev_accuracy = accuracy_score(dev_labels, dev_preds)\n",
    "dev_precision, dev_recall, dev_f1, _ = precision_recall_fscore_support(dev_labels, dev_preds, average='binary')\n",
    "\n",
    "print(\"\\nDev Set Evaluation:\")\n",
    "print(f\"Accuracy: {dev_accuracy:.4f}\")\n",
    "print(f\"Precision: {dev_precision:.4f}\")\n",
    "print(f\"Recall: {dev_recall:.4f}\")\n",
    "print(f\"F1 Score: {dev_f1:.4f}\")\n",
    "\n",
    "# Create confusion matrix\n",
    "cm = confusion_matrix(dev_labels, dev_preds)\n",
    "plt.figure(figsize=(10, 8))\n",
    "sns.heatmap(cm, annot=True, fmt='d', cmap='Blues')\n",
    "plt.title('Confusion Matrix')\n",
    "plt.xlabel('Predicted')\n",
    "plt.ylabel('True')\n",
    "plt.savefig('confusion_matrix.png')\n",
    "plt.close()\n",
    "\n",
    "# Save the model\n",
    "model.save_pretrained(\"./binary_classifier_saved_model\")\n",
    "tokenizer.save_pretrained(\"./binary_classifier_saved_model\")"
   ]
  },
  {
   "cell_type": "code",
   "execution_count": 13,
   "id": "173d4aaa-3db0-44e3-a768-4f223616e5ae",
   "metadata": {
    "tags": []
   },
   "outputs": [
    {
     "name": "stdout",
     "output_type": "stream",
     "text": [
      "Using device: cuda\n"
     ]
    }
   ],
   "source": [
    "import pandas as pd\n",
    "import torch\n",
    "from transformers import AutoTokenizer\n",
    "from torch.utils.data import TensorDataset, DataLoader\n",
    "\n",
    "# Load the dataset\n",
    "df = pd.read_csv(\"../twok_masked.csv\")\n",
    "\n",
    "# Load the saved model and tokenizer\n",
    "loaded_model = BertForSequenceClassification.from_pretrained(\"./binary_classifier_saved_model\", model_name_or_path=\"nlpaueb/bert-base-greek-uncased-v1\")\n",
    "loaded_tokenizer = AutoTokenizer.from_pretrained(\"./binary_classifier_saved_model\")\n",
    "\n",
    "# Check if CUDA is available\n",
    "device = torch.device(\"cuda\" if torch.cuda.is_available() else \"cpu\")\n",
    "print(f\"Using device: {device}\")\n",
    "\n",
    "# Move the model to the appropriate device\n",
    "loaded_model.to(device)\n",
    "\n",
    "# Tokenize all texts\n",
    "encodings = loaded_tokenizer(df['text'].tolist(), truncation=True, padding=True, max_length=512)\n",
    "dataset = TensorDataset(torch.tensor(encodings['input_ids']), \n",
    "                        torch.tensor(encodings['attention_mask']))\n",
    "dataloader = DataLoader(dataset, batch_size=32)  # Adjust batch size as needed\n",
    "\n",
    "# Make predictions\n",
    "loaded_model.eval()\n",
    "predictions = []"
   ]
  },
  {
   "cell_type": "code",
   "execution_count": 14,
   "id": "9949ca2b-2788-440e-8bf0-dd817d5a6b4e",
   "metadata": {
    "tags": []
   },
   "outputs": [],
   "source": [
    "with torch.no_grad():\n",
    "    for batch in dataloader:\n",
    "        input_ids, attention_mask = [b.to(device) for b in batch]\n",
    "        outputs = loaded_model(input_ids, attention_mask=attention_mask)\n",
    "        logits = outputs[0] if isinstance(outputs, tuple) else outputs\n",
    "        preds = torch.argmax(logits, dim=1)\n",
    "        predictions.extend(preds.cpu().numpy())"
   ]
  },
  {
   "cell_type": "code",
   "execution_count": 16,
   "id": "bcc439a5-1044-424b-a219-3e7506df522b",
   "metadata": {
    "tags": []
   },
   "outputs": [
    {
     "name": "stdout",
     "output_type": "stream",
     "text": [
      "Processed 2000 rows.\n",
      "Results saved to 'twok_masked_with_predictions.csv'\n",
      "\n",
      "Distribution of predictions:\n",
      "archaia\n",
      " 1       0.7825\n",
      "-9999    0.2175\n",
      "Name: proportion, dtype: float64\n",
      "\n",
      "Distribution of predictions for masked items:\n",
      "archaia\n",
      "1    1.0\n",
      "Name: proportion, dtype: float64\n"
     ]
    }
   ],
   "source": [
    "# Add predictions to the dataframe\n",
    "df['archaia'] = predictions\n",
    "\n",
    "# Check 'mask' column and set 'ΚΝΕ' to -9999 if mask is 0\n",
    "df.loc[df['mask'] == 0, 'archaia'] = -9999\n",
    "\n",
    "# Remove columns '1' through '5'\n",
    "columns_to_remove = ['1', '2', '3', '4', '5']\n",
    "df = df.drop(columns=[col for col in columns_to_remove if col in df.columns])\n",
    "\n",
    "# Save the results\n",
    "df.to_csv(\"twok_masked_with_predictions.csv\", index=False)\n",
    "\n",
    "print(f\"Processed {len(df)} rows.\")\n",
    "print(\"Results saved to 'twok_masked_with_predictions.csv'\")\n",
    "\n",
    "# Print distribution of predictions\n",
    "print(\"\\nDistribution of predictions:\")\n",
    "print(df['archaia'].value_counts(normalize=True))\n",
    "\n",
    "# Print distribution of predictions for masked items only\n",
    "masked_df = df[df['mask'] == 1]\n",
    "print(\"\\nDistribution of predictions for masked items:\")\n",
    "print(masked_df['archaia'].value_counts(normalize=True))"
   ]
  },
  {
   "cell_type": "code",
   "execution_count": null,
   "id": "db5e881d-6d8c-4e51-9548-eea2fcdac1d2",
   "metadata": {},
   "outputs": [],
   "source": []
  }
 ],
 "metadata": {
  "kernelspec": {
   "display_name": "Python 3 (ipykernel)",
   "language": "python",
   "name": "python3"
  },
  "language_info": {
   "codemirror_mode": {
    "name": "ipython",
    "version": 3
   },
   "file_extension": ".py",
   "mimetype": "text/x-python",
   "name": "python",
   "nbconvert_exporter": "python",
   "pygments_lexer": "ipython3",
   "version": "3.11.7"
  }
 },
 "nbformat": 4,
 "nbformat_minor": 5
}
