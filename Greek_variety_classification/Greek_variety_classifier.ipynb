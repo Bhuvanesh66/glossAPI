{
 "cells": [
  {
   "cell_type": "code",
   "execution_count": 1,
   "id": "fe6c88dc-b082-4a9e-a85a-229a5ffb8d6d",
   "metadata": {
    "tags": []
   },
   "outputs": [],
   "source": [
    "import os\n",
    "os.environ[\"WANDB_DISABLED\"] = \"true\"\n",
    "os.environ[\"TOKENIZERS_PARALLELISM\"] = \"false\""
   ]
  },
  {
   "cell_type": "code",
   "execution_count": 2,
   "id": "79ac70a6-f1ae-407a-ae57-1cac34993d2e",
   "metadata": {
    "tags": []
   },
   "outputs": [
    {
     "name": "stderr",
     "output_type": "stream",
     "text": [
      "2024-09-09 09:23:53.613914: E external/local_xla/xla/stream_executor/cuda/cuda_dnn.cc:9261] Unable to register cuDNN factory: Attempting to register factory for plugin cuDNN when one has already been registered\n",
      "2024-09-09 09:23:53.613986: E external/local_xla/xla/stream_executor/cuda/cuda_fft.cc:607] Unable to register cuFFT factory: Attempting to register factory for plugin cuFFT when one has already been registered\n",
      "2024-09-09 09:23:53.615542: E external/local_xla/xla/stream_executor/cuda/cuda_blas.cc:1515] Unable to register cuBLAS factory: Attempting to register factory for plugin cuBLAS when one has already been registered\n",
      "2024-09-09 09:23:53.625699: I tensorflow/core/platform/cpu_feature_guard.cc:182] This TensorFlow binary is optimized to use available CPU instructions in performance-critical operations.\n",
      "To enable the following instructions: AVX2 FMA, in other operations, rebuild TensorFlow with the appropriate compiler flags.\n",
      "2024-09-09 09:23:55.010955: W tensorflow/compiler/tf2tensorrt/utils/py_utils.cc:38] TF-TRT Warning: Could not find TensorRT\n"
     ]
    }
   ],
   "source": [
    "import pandas as pd\n",
    "import numpy as np\n",
    "from sklearn.model_selection import train_test_split\n",
    "from transformers import AutoTokenizer, TrainingArguments, Trainer\n",
    "import torch\n",
    "from torch import nn\n",
    "from transformers import AutoModel, AutoConfig\n",
    "from sklearn.preprocessing import LabelEncoder\n",
    "from sklearn.metrics import accuracy_score, precision_recall_fscore_support, confusion_matrix\n",
    "import seaborn as sns\n",
    "import matplotlib.pyplot as plt"
   ]
  },
  {
   "cell_type": "code",
   "execution_count": 3,
   "id": "0ed01c96-bccc-4ba4-a538-42e154e978ed",
   "metadata": {
    "tags": []
   },
   "outputs": [],
   "source": [
    "# Load the data\n",
    "data = pd.read_csv(\"dataset_Sep_9_masked.csv\", sep=\",\", engine=\"python\")\n",
    "\n",
    "# Prepare the data\n",
    "sentences = data['text'].values\n",
    "labels = data['Ποικιλία'].values\n",
    "\n",
    "# Encode the labels\n",
    "label_encoder = LabelEncoder()\n",
    "encoded_labels = label_encoder.fit_transform(labels)"
   ]
  },
  {
   "cell_type": "code",
   "execution_count": 5,
   "id": "70accdae-d440-4851-a504-d54c5918bada",
   "metadata": {
    "tags": []
   },
   "outputs": [
    {
     "name": "stdout",
     "output_type": "stream",
     "text": [
      "Label distribution:\n",
      "3    1042\n",
      "2     487\n",
      "1     477\n",
      "0     306\n",
      "Name: count, dtype: int64\n",
      "\n",
      "Distribution of each label:\n",
      "   Label  Count\n",
      "0      3   1042\n",
      "1      2    487\n",
      "2      1    477\n",
      "3      0    306\n"
     ]
    }
   ],
   "source": [
    "\n",
    "# Convert encoded labels into a Pandas Series to use .value_counts()\n",
    "label_distribution = pd.Series(encoded_labels).value_counts()\n",
    "\n",
    "# Print the distribution of each label\n",
    "print(\"Label distribution:\")\n",
    "print(label_distribution)\n",
    "\n",
    "# Optionally, you can also map back the encoded values to their original labels:\n",
    "decoded_labels = label_encoder.inverse_transform(label_distribution.index)\n",
    "distribution_with_labels = pd.DataFrame({'Label': decoded_labels, 'Count': label_distribution.values})\n",
    "\n",
    "print(\"\\nDistribution of each label:\")\n",
    "print(distribution_with_labels)"
   ]
  },
  {
   "cell_type": "code",
   "execution_count": 6,
   "id": "a8f93b26-7c0a-4eb1-9927-0a5ca2109a60",
   "metadata": {
    "tags": []
   },
   "outputs": [],
   "source": [
    "train_sentences, temp_sentences, train_labels, temp_labels = train_test_split(sentences, encoded_labels, \n",
    "                                                                              test_size=0.3, random_state=42, stratify=encoded_labels)\n",
    "val_sentences, dev_sentences, val_labels, dev_labels = train_test_split(temp_sentences, temp_labels,\n",
    "                                                                        test_size=0.5, random_state=42, stratify=temp_labels)\n",
    "\n",
    "tokenizer = AutoTokenizer.from_pretrained(\"nlpaueb/bert-base-greek-uncased-v1\")"
   ]
  },
  {
   "cell_type": "code",
   "execution_count": 7,
   "id": "a0ab4312-a081-494d-b730-5d84cfd5fb9b",
   "metadata": {
    "tags": []
   },
   "outputs": [
    {
     "name": "stdout",
     "output_type": "stream",
     "text": [
      "\n",
      "Training set label distribution:\n",
      "Label 0: 214\n",
      "Label 1: 334\n",
      "Label 2: 341\n",
      "Label 3: 729\n",
      "\n",
      "Validation set label distribution:\n",
      "Label 0: 46\n",
      "Label 1: 71\n",
      "Label 2: 73\n",
      "Label 3: 157\n",
      "\n",
      "Dev set label distribution:\n",
      "Label 0: 46\n",
      "Label 1: 72\n",
      "Label 2: 73\n",
      "Label 3: 156\n"
     ]
    }
   ],
   "source": [
    "def print_label_distribution(labels, name):\n",
    "    unique, counts = np.unique(labels, return_counts=True)\n",
    "    print(f\"\\n{name} set label distribution:\")\n",
    "    for label, count in zip(unique, counts):\n",
    "        print(f\"Label {label}: {count}\")\n",
    "\n",
    "print_label_distribution(train_labels, \"Training\")\n",
    "print_label_distribution(val_labels, \"Validation\")\n",
    "print_label_distribution(dev_labels, \"Dev\")"
   ]
  },
  {
   "cell_type": "code",
   "execution_count": 8,
   "id": "c2e57fff-6745-4b8e-b2c9-57ca065fffaa",
   "metadata": {
    "tags": []
   },
   "outputs": [
    {
     "name": "stdout",
     "output_type": "stream",
     "text": [
      "Number of training sequences longer than 512 tokens: 39 out of 1618\n",
      "Number of validation sequences longer than 512 tokens: 8 out of 347\n"
     ]
    }
   ],
   "source": [
    "# Function to count sequences longer than 512 tokens\n",
    "def count_long_sequences(sentences, tokenizer):\n",
    "    count = 0\n",
    "    for sentence in sentences:\n",
    "        tokens = tokenizer.encode(sentence, add_special_tokens=True)\n",
    "        if len(tokens) > 512:\n",
    "            count += 1\n",
    "    return count\n",
    "\n",
    "# Count and print long sequences in training and validation sets\n",
    "train_long_count = count_long_sequences(train_sentences, tokenizer)\n",
    "val_long_count = count_long_sequences(val_sentences, tokenizer)\n",
    "\n",
    "print(f\"Number of training sequences longer than 512 tokens: {train_long_count} out of {len(train_sentences)}\")\n",
    "print(f\"Number of validation sequences longer than 512 tokens: {val_long_count} out of {len(val_sentences)}\")"
   ]
  },
  {
   "cell_type": "code",
   "execution_count": 9,
   "id": "b4843672-af0a-41d9-9912-0094b025e2dc",
   "metadata": {
    "tags": []
   },
   "outputs": [],
   "source": [
    "max_length = 512\n",
    "train_encodings = tokenizer(train_sentences.tolist(), truncation=True, padding=True, max_length=max_length)\n",
    "val_encodings = tokenizer(val_sentences.tolist(), truncation=True, padding=True, max_length=max_length)\n",
    "dev_encodings = tokenizer(dev_sentences.tolist(), truncation=True, padding=True, max_length=max_length)"
   ]
  },
  {
   "cell_type": "code",
   "execution_count": 10,
   "id": "be191b21-62bf-4e91-902f-4e7adc2d63a3",
   "metadata": {
    "tags": []
   },
   "outputs": [],
   "source": [
    "class BertForSequenceClassification(nn.Module):\n",
    "    def __init__(self, model_name_or_path, num_labels=4):\n",
    "        super(BertForSequenceClassification, self).__init__()\n",
    "        self.num_labels = num_labels\n",
    "        self.config = AutoConfig.from_pretrained(model_name_or_path)\n",
    "        self.bert = AutoModel.from_pretrained(model_name_or_path, config=self.config)\n",
    "        self.classifier = nn.Sequential(\n",
    "            nn.Linear(self.bert.config.hidden_size, 256),\n",
    "            #nn.ReLU(),\n",
    "            nn.Dropout(0.1),\n",
    "            nn.Linear(256, num_labels),\n",
    "        )\n",
    "        self.init_weights()\n",
    "\n",
    "    def init_weights(self):\n",
    "        for module in self.classifier:\n",
    "            if isinstance(module, nn.Linear):\n",
    "                nn.init.xavier_uniform_(module.weight)\n",
    "                if module.bias is not None:\n",
    "                    nn.init.zeros_(module.bias)\n",
    "\n",
    "    def forward(self, input_ids=None, attention_mask=None, token_type_ids=None, labels=None):\n",
    "        outputs = self.bert(input_ids, attention_mask=attention_mask)\n",
    "        pooler_output = outputs.pooler_output\n",
    "        logits = self.classifier(pooler_output)\n",
    "\n",
    "        loss = None\n",
    "        if labels is not None:\n",
    "            loss_fct = nn.CrossEntropyLoss()\n",
    "            loss = loss_fct(logits.view(-1, self.num_labels), labels.view(-1))\n",
    "\n",
    "        return (loss, logits) if loss is not None else logits\n",
    "\n",
    "    def save_pretrained(self, save_directory):\n",
    "        os.makedirs(save_directory, exist_ok=True)\n",
    "        self.config.save_pretrained(save_directory)\n",
    "        torch.save(self.state_dict(), os.path.join(save_directory, \"pytorch_model.bin\"))\n",
    "\n",
    "    @classmethod\n",
    "    def from_pretrained(cls, save_directory, model_name_or_path, num_labels=4):\n",
    "        config = AutoConfig.from_pretrained(save_directory)\n",
    "        model = cls(model_name_or_path, num_labels=num_labels)\n",
    "        state_dict = torch.load(os.path.join(save_directory, \"pytorch_model.bin\"), map_location=torch.device('cpu'))\n",
    "        model.load_state_dict(state_dict)\n",
    "        return model"
   ]
  },
  {
   "cell_type": "code",
   "execution_count": 11,
   "id": "9e5a7644-4dfd-4949-8ea0-f802a3e2f9d6",
   "metadata": {
    "tags": []
   },
   "outputs": [],
   "source": [
    "class GreekSentencesDataset(torch.utils.data.Dataset):\n",
    "    def __init__(self, encodings, labels):\n",
    "        self.encodings = encodings\n",
    "        self.labels = labels\n",
    "\n",
    "    def __getitem__(self, idx):\n",
    "        item = {key: torch.tensor(val[idx]) for key, val in self.encodings.items()}\n",
    "        item['labels'] = torch.tensor(self.labels[idx], dtype=torch.long)\n",
    "        return item\n",
    "\n",
    "    def __len__(self):\n",
    "        return len(self.labels)\n",
    "\n",
    "train_dataset = GreekSentencesDataset(train_encodings, train_labels)\n",
    "val_dataset = GreekSentencesDataset(val_encodings, val_labels)\n",
    "dev_dataset = GreekSentencesDataset(dev_encodings, dev_labels)"
   ]
  },
  {
   "cell_type": "code",
   "execution_count": 12,
   "id": "64292e7e-84c2-419d-a793-3c2495f45b74",
   "metadata": {
    "tags": []
   },
   "outputs": [
    {
     "data": {
      "application/vnd.jupyter.widget-view+json": {
       "model_id": "5a649dc04e2e41a7968df48e0dd05581",
       "version_major": 2,
       "version_minor": 0
      },
      "text/plain": [
       "pytorch_model.bin:   0%|          | 0.00/454M [00:00<?, ?B/s]"
      ]
     },
     "metadata": {},
     "output_type": "display_data"
    }
   ],
   "source": [
    "model_name_or_path = \"nlpaueb/bert-base-greek-uncased-v1\"\n",
    "num_labels = len(label_encoder.classes_)\n",
    "model = BertForSequenceClassification(model_name_or_path, num_labels)"
   ]
  },
  {
   "cell_type": "code",
   "execution_count": 13,
   "id": "084f90c0-3340-453f-adc2-ae03fac1f96e",
   "metadata": {
    "tags": []
   },
   "outputs": [],
   "source": [
    "from transformers import TrainingArguments, Trainer\n",
    "from sklearn.metrics import accuracy_score, precision_recall_fscore_support\n",
    "\n",
    "def compute_metrics(pred):\n",
    "    labels = pred.label_ids\n",
    "    preds = pred.predictions.argmax(-1)\n",
    "    precision, recall, f1, _ = precision_recall_fscore_support(labels, preds, average='weighted')\n",
    "    acc = accuracy_score(labels, preds)\n",
    "    return {\n",
    "        'accuracy': acc,\n",
    "        'f1': f1,\n",
    "        'precision': precision,\n",
    "        'recall': recall\n",
    "    }\n",
    "\n",
    "training_args = TrainingArguments(\n",
    "    output_dir='./results',\n",
    "    num_train_epochs=1,\n",
    "    per_device_train_batch_size=8,\n",
    "    per_device_eval_batch_size=8,\n",
    "    warmup_steps=20,\n",
    "    weight_decay=0.05,\n",
    "    logging_dir='./logs',\n",
    "    logging_steps=10,\n",
    "    evaluation_strategy=\"epoch\",\n",
    "    report_to = \"none\",\n",
    "    save_strategy=\"epoch\",\n",
    "    load_best_model_at_end=True,\n",
    ")\n",
    "\n",
    "trainer = Trainer(\n",
    "    model=model,\n",
    "    args=training_args,\n",
    "    train_dataset=train_dataset,\n",
    "    eval_dataset=val_dataset,\n",
    "    compute_metrics=compute_metrics\n",
    ")"
   ]
  },
  {
   "cell_type": "code",
   "execution_count": 14,
   "id": "1a113743-3d55-4ccd-86fd-a8ccb2295f94",
   "metadata": {
    "tags": []
   },
   "outputs": [
    {
     "data": {
      "text/html": [
       "\n",
       "    <div>\n",
       "      \n",
       "      <progress value='203' max='203' style='width:300px; height:20px; vertical-align: middle;'></progress>\n",
       "      [203/203 02:24, Epoch 1/1]\n",
       "    </div>\n",
       "    <table border=\"1\" class=\"dataframe\">\n",
       "  <thead>\n",
       " <tr style=\"text-align: left;\">\n",
       "      <th>Epoch</th>\n",
       "      <th>Training Loss</th>\n",
       "      <th>Validation Loss</th>\n",
       "      <th>Accuracy</th>\n",
       "      <th>F1</th>\n",
       "      <th>Precision</th>\n",
       "      <th>Recall</th>\n",
       "    </tr>\n",
       "  </thead>\n",
       "  <tbody>\n",
       "    <tr>\n",
       "      <td>1</td>\n",
       "      <td>0.157800</td>\n",
       "      <td>0.144467</td>\n",
       "      <td>0.948127</td>\n",
       "      <td>0.946754</td>\n",
       "      <td>0.948602</td>\n",
       "      <td>0.948127</td>\n",
       "    </tr>\n",
       "  </tbody>\n",
       "</table><p>"
      ],
      "text/plain": [
       "<IPython.core.display.HTML object>"
      ]
     },
     "metadata": {},
     "output_type": "display_data"
    },
    {
     "data": {
      "text/html": [],
      "text/plain": [
       "<IPython.core.display.HTML object>"
      ]
     },
     "metadata": {},
     "output_type": "display_data"
    },
    {
     "name": "stdout",
     "output_type": "stream",
     "text": [
      "Training Loss: 0.4765\n",
      "Evaluation Loss: 0.1445\n"
     ]
    }
   ],
   "source": [
    "# Train the model\n",
    "train_result = trainer.train()\n",
    "\n",
    "# Evaluate the model\n",
    "eval_result = trainer.evaluate()\n",
    "\n",
    "# Print training and evaluation results\n",
    "print(f\"Training Loss: {train_result.metrics['train_loss']:.4f}\")\n",
    "print(f\"Evaluation Loss: {eval_result['eval_loss']:.4f}\")\n"
   ]
  },
  {
   "cell_type": "code",
   "execution_count": 15,
   "id": "f2c4745e-8018-4aa6-ad7e-22dde58bc681",
   "metadata": {},
   "outputs": [
    {
     "data": {
      "text/plain": [
       "('./saved_model/tokenizer_config.json',\n",
       " './saved_model/special_tokens_map.json',\n",
       " './saved_model/vocab.txt',\n",
       " './saved_model/added_tokens.json',\n",
       " './saved_model/tokenizer.json')"
      ]
     },
     "execution_count": 15,
     "metadata": {},
     "output_type": "execute_result"
    }
   ],
   "source": [
    "# Save the model and tokenizer\n",
    "model.save_pretrained(\"./saved_model\")\n",
    "tokenizer.save_pretrained(\"./saved_model\")\n"
   ]
  },
  {
   "cell_type": "code",
   "execution_count": 16,
   "id": "1c461270-4f44-4448-aa07-02fbc381d8e3",
   "metadata": {},
   "outputs": [
    {
     "name": "stdout",
     "output_type": "stream",
     "text": [
      "Training Loss: 0.4765\n",
      "Validation Loss: 0.1445\n",
      "Validation Accuracy: 0.9481\n",
      "Validation F1 Score: 0.9468\n",
      "\n",
      "Dev Set Evaluation:\n",
      "Accuracy: 0.9481\n",
      "Precision: 0.9477\n",
      "Recall: 0.9481\n",
      "F1 Score: 0.9478\n"
     ]
    }
   ],
   "source": [
    "print(f\"Training Loss: {train_result.metrics['train_loss']:.4f}\")\n",
    "print(f\"Validation Loss: {eval_result['eval_loss']:.4f}\")\n",
    "print(f\"Validation Accuracy: {eval_result['eval_accuracy']:.4f}\")\n",
    "print(f\"Validation F1 Score: {eval_result['eval_f1']:.4f}\")\n",
    "\n",
    "# Evaluate on dev set\n",
    "dev_pred = trainer.predict(dev_dataset)\n",
    "dev_preds = dev_pred.predictions.argmax(-1)\n",
    "dev_labels = dev_dataset.labels\n",
    "\n",
    "dev_accuracy = accuracy_score(dev_labels, dev_preds)\n",
    "dev_precision, dev_recall, dev_f1, _ = precision_recall_fscore_support(dev_labels, dev_preds, average='weighted')\n",
    "\n",
    "print(\"\\nDev Set Evaluation:\")\n",
    "print(f\"Accuracy: {dev_accuracy:.4f}\")\n",
    "print(f\"Precision: {dev_precision:.4f}\")\n",
    "print(f\"Recall: {dev_recall:.4f}\")\n",
    "print(f\"F1 Score: {dev_f1:.4f}\")"
   ]
  },
  {
   "cell_type": "code",
   "execution_count": 17,
   "id": "d393fa59-f36f-447c-9cad-a3d43b4f2418",
   "metadata": {},
   "outputs": [
    {
     "name": "stdout",
     "output_type": "stream",
     "text": [
      "\n",
      "Classification Report:\n",
      "                      precision    recall  f1-score   support\n",
      "\n",
      "αρχαία/προμεσαιωνική       0.98      0.98      0.98        46\n",
      "     κνε/λογοτεχνικό       0.91      0.88      0.90        73\n",
      "            δημοτική       0.94      0.95      0.95       156\n",
      "         καθαρεύουσα       0.97      1.00      0.99        72\n",
      "\n",
      "            accuracy                           0.95       347\n",
      "           macro avg       0.95      0.95      0.95       347\n",
      "        weighted avg       0.95      0.95      0.95       347\n",
      "\n"
     ]
    },
    {
     "data": {
      "image/png": "[encoded data removed]",
      "text/plain": [
       "<Figure size 1200x1000 with 2 Axes>"
      ]
     },
     "metadata": {},
     "output_type": "display_data"
    }
   ],
   "source": [
    "from sklearn.metrics import confusion_matrix, classification_report\n",
    "\n",
    "# Define the new category map\n",
    "new_category_map = {\n",
    "    0: 'αρχαία/προμεσαιωνική',\n",
    "    1: 'κνε/λογοτεχνικό',\n",
    "    2: 'δημοτική',\n",
    "    3: 'καθαρεύουσα'\n",
    "}\n",
    "\n",
    "# Function to map old labels to new labels\n",
    "def map_to_new_category(label):\n",
    "    if label in [0, 5]:  # 'αρχαία' or 'προμεσαιωνική'\n",
    "        return 0\n",
    "    elif label in [1, 4]:  # 'κνε' or 'λογοτεχνικό'\n",
    "        return 1\n",
    "    else:\n",
    "        return label\n",
    "\n",
    "# Convert numeric labels to new numeric labels\n",
    "dev_labels_new = [map_to_new_category(label) for label in dev_labels]\n",
    "dev_preds_new = [map_to_new_category(pred) for pred in dev_preds]\n",
    "\n",
    "# Convert new numeric labels to string labels\n",
    "dev_labels_str = [new_category_map[label] for label in dev_labels_new]\n",
    "dev_preds_str = [new_category_map[pred] for pred in dev_preds_new]\n",
    "\n",
    "# Create confusion matrix\n",
    "cm = confusion_matrix(dev_labels_str, dev_preds_str, labels=list(new_category_map.values()))\n",
    "\n",
    "# Create heatmap\n",
    "plt.figure(figsize=(12, 10))\n",
    "sns.heatmap(cm, annot=True, fmt='d', cmap='Blues', \n",
    "            xticklabels=list(new_category_map.values()),\n",
    "            yticklabels=list(new_category_map.values()))\n",
    "plt.title('Confusion Matrix on Dev Set (Updated Categories)')\n",
    "plt.xlabel('Predicted')\n",
    "plt.ylabel('True')\n",
    "\n",
    "# Rotate x-axis labels for better readability\n",
    "plt.xticks(rotation=45, ha='right')\n",
    "plt.yticks(rotation=0)\n",
    "\n",
    "# Adjust layout to prevent cutting off labels\n",
    "plt.tight_layout()\n",
    "\n",
    "# Save the figure\n",
    "plt.savefig('./confusion_matrix_updated.png')\n",
    "\n",
    "# Print classification report\n",
    "print(\"\\nClassification Report:\")\n",
    "print(classification_report(dev_labels_str, dev_preds_str, target_names=list(new_category_map.values())))"
   ]
  },
  {
   "cell_type": "code",
   "execution_count": 18,
   "id": "861b4a21-9778-49cb-b6a3-88805b60bde0",
   "metadata": {
    "tags": []
   },
   "outputs": [
    {
     "name": "stdout",
     "output_type": "stream",
     "text": [
      "Misclassified Samples:\n",
      "Index: 5\n",
      "Text: Μετά δε ταύτα, επειδή οι Σπαρτιάται διά μεν των λόγων προσεφέροντο ως φίλοι και σύμμαχοι των Θηβαίων, πραγματικώς δ υπέβλεπον της πόλεως το φρόνημα και την δύναμιν, και προ πάντων εμίσουν την εταιρίαν του Ισμηνίου και Ανδροκλείδου, εις ήν ανήκε και ο Πελοπίδας, και ήτις εφαίνετο φιλελεύθερος συγχρόνως και δημοτική, ο Αρχίας, και ο Λεοντίδας και ο Φίλιππος, άνδρες ολιγαρχικοί και πλούσιοι, και ξένοι προς πάσαν μετριοφροσύνην, καταπείθουσι Φοιβίδαν τον Λάκωνα, όστις μετά στρατεύματος διήρχετο την χώραν, να καταλάβη εξαίφνης την Καδμείαν και εκδιώξας τους εναντιουμένους, να καταστήση την πολιτείαν υπήκοον των Λακεδαιμονίων. Πεισθείς λοιπόν εκείνος, επετέθη, εν ώ οι Θηβαίοι δεν τον περιέμενον, επί της εορτής των Θεσμοφορίων, και εκυρίευσε την ακρόπολιν. Αρπαγείς δ ο Ισμηνίας, και κομισθείς εις την Λακεδαίμονα, μετ ολίγον καιρόν εφονεύθη· ο δε Πελοπίδας και ο Φερένικος και ο Ανδροκλείδας, μετά πολλών άλλων φεύγοντες, απεκηρύχθησαν. Ο δ Επαμινώνδας έμεινεν εις την πόλιν, διότι κατεφρονείτο, ένεκα μεν της φιλοσοφίας, ως μη εις τα πράγματα αναμιγνύμενος, ένεκα δε της πενίας του, ως αδύνατος. 1\n",
      "True Label: αρχαία/προμεσαιωνική\n",
      "Predicted Label: καθαρεύουσα\n",
      "\n",
      "Index: 61\n",
      "Text: Μπορεί όμως να είναι καλύτερα έτσι στη ζωή! Γύρισε κι εκείνος ανάσκελα και έκλεισε τις γροθιές. Μέσα από τις τρύπες της σκεπής πάλλονταν τ’ αστέρια και το τρεμούλιασμά τους καθώς και τα ασταμάτητο τρεμούλιασμα των γρύλων έμοιαζε το ίδιο πράγμα. 2\n",
      "True Label: καθαρεύουσα\n",
      "Predicted Label: δημοτική\n",
      "\n",
      "Index: 62\n",
      "Text: ΣΥΡΑΝΟ, χαρίεις, καθήμενος πάντοτε. Μικρό χηνόπουλό μου, Έχω δυο λόγους κι ο καθείς είν αρκετός και μόνος. Πρώτον: Τον βρίσκω ηθοποιόν αχρείον, που γκαρίζει, Και του νεροκουβαλητού φωνές σου ξεφωνίζει Στίχους, που πρέπει ελαφρά ναφίνη να πετούνε! Δεύτερον: Είνε μυστικό δικό μου . . . 2\n",
      "True Label: καθαρεύουσα\n",
      "Predicted Label: δημοτική\n",
      "\n",
      "Index: 64\n",
      "Text: Ο Μόχογλους δεν ήτο από τους χειρότερους Τούρκους. Είχε κάμει φοβερά πράμματα, αλλ είχε και καλές στιγμές. Είχε σκοτώσει Ρωμιούς, για ψύλλου πήδημα ή για τίποτε εντελώς, αλλ είχε σκοτώσει και καπανταΐδες Τούρκους που πείραξαν Ρωμιούς στην περιοχή του, τους ραγιάδες του, ως τους έλεγε. Αλλά την προστασία του άπλωνε κέξω από την περιοχή του, σε Ρωμιούς πούχε πάρει στο χαρέμι των αδερφές των ή κόρες των. Ενδεχόμενον όμως ήτο να σκοτώση μετά κάμποσον καιρόν και κείνον που έσωσε. 2\n",
      "True Label: δημοτική\n",
      "Predicted Label: καθαρεύουσα\n",
      "\n",
      "Index: 72\n",
      "Text: Μαγδαληνή, που έσκυψες στού κόσμου τον σωτήρα, κι ενώπιόν μου σκύψε, και με δακρύων ποταμούς και μ αλαβάστρων μύρα κι εμού τους πόδας νίψε. 2\n",
      "True Label: καθαρεύουσα\n",
      "Predicted Label: δημοτική\n",
      "\n",
      "Index: 86\n",
      "Text: Φοβερά πράγματα. Διακόσια φράγκα πληρόνουν να την καταχωρίσω. Αλλά εγώ δεν ηθέλησα να το κάμω, πριν συνεννοηθώ μαζή σας. Όπως αυτοί έχουν τόσον συμφέρον να δημοσιευθή η διατριβή των, ίσως έχετε και σεις, εσυλλογίσθην, να μη δημοσιευθή. Ώστε . . . αν θέλετε . . . 2\n",
      "True Label: δημοτική\n",
      "Predicted Label: καθαρεύουσα\n",
      "\n",
      "Index: 99\n",
      "Text: ΜΙΝ. Δῆλον ὡς τὸν δικαστὴν ἢ τὸν τύραννον, ἐπεὶ οὐδὲ τὸ ξίφος αὐτό· ὑπηρετεῖ γὰρ ὄργανον ὂν τοῦτο πρὸς τὸν θυμὸν τῷ πρώτῳ παρασχόντι τὴν αἰτίαν. 3\n",
      "True Label: καθαρεύουσα\n",
      "Predicted Label: αρχαία/προμεσαιωνική\n",
      "\n",
      "Index: 130\n",
      "Text: Πώς συνήθως; Δηλαδή να καταισχύνετε έναν άνθρωπον, να τον εξοντόσετε . . Μα αυτό θα το μάθη σήμερον όλη η λέσχη, και αύριον όλη η πόλις! . . . 3\n",
      "True Label: καθαρεύουσα\n",
      "Predicted Label: κνε/λογοτεχνικό\n",
      "\n",
      "Index: 174\n",
      "Text: Ο Τριστάνος έρριξε κατά πάνω του το άτι με τέτοια δύναμι, ώστε κείνο, με της τρίχες ολόρθες από τον τρόμο, ώρμησε μολαταύτα κατά του τέρατος. Το κοντάρι του Τριστάνου χτυπάει απάνου στα χοντρά λέπια και γίνεται κομμάτια. Τότε ο αντρειωμένος τραβάει το σπαθί του, το σηκώνει, και το κατεβάζει στο κεφάλι του δράκοντα, χωρίς όμως ούτε το τομάρι να σκίση. Μολαταύτα το θεριό αισθάνθηκε τα χτυπήματα. Ρίχνει να νύχια του στην ασπίδα και τη σκίζει. Με το στήθος ξέσκεπο ο Τριστάνος, σημαδεύει πάλι με το σπαθί, και χτυπάει το θεριό στα πλευρά με τόση δύναμι που σείεται ο αέρας. Άδικα. Δεν μπορεί να το πληγώση. Τότε ο Δράκοντας ξέρασε από τα ρουθούνια ένα διπλόν πίδακα φαρμακερές φωτιές: Ο θώρακας του Τριστάνου μαυρίζει σαν σβυμένο κάρβουνο, τ άλογο του κυλιέται χάμου και ψοφάει. Αλλά ο Τριστάνος ξανασηκώνεται αμέσως και χώνει το γερό ξίφος του μέσα στο στόμα του θηρίου: το ξίφος περνάει πέρα για πέρα και του κόβει την καρδιά στα δύο. Ο δράκοντας βγάζει, μια τελευταία φορά, το φρικτό μουγκρητό του και ψοφάει. 2\n",
      "True Label: καθαρεύουσα\n",
      "Predicted Label: δημοτική\n",
      "\n",
      "Index: 186\n",
      "Text: ΜΑΚΔΩΦ Ζωή ς τον βασιλέα μας! Συ βασιλεύεις τώρα! Ιδού, ιδού η κεφαλή του μιαρού τυράνου! Ο κόσμος είν ελεύθερος! Σε περιτριγυρίζει το άνθος της πατρίδος μας, του κράτους σου, και όλοι τα λόγια που επρόφερα τα λέγουν με τον νουν των. Ενώσατ όλοι δυνατά μαζί μου την φωνήν σας: Ο Μάλκολμ ζήτω ο βασιλεύς! 2\n",
      "True Label: δημοτική\n",
      "Predicted Label: καθαρεύουσα\n",
      "\n",
      "Index: 200\n",
      "Text: Σωκράτης. Εμπρός λοιπόν ας εξετάσωμεν τι είδους είναι αυτός ο τρόπος της διδασκαλίας των πραγμάτων, περί του οποίου τόρα ομιλείς, και μήπως υπάρχει μεν και άλλος, αυτός όμως είναι καλλίτερος, ή δεν υπάρχει άλλος αλλά μόνος αυτός. Ποίον από τα δύο παραδέχεσαι; 2\n",
      "True Label: δημοτική\n",
      "Predicted Label: καθαρεύουσα\n",
      "\n",
      "Index: 258\n",
      "Text: ΙΑΤΡΟΣ Κυρία, μην ανησυχείς. Το βλέπεις· η μεγάλη η έξαψις επέρασε. Πλην κίνδυνος θα είναι ς την περασμένην του ζωήν να στρέφωμεν τον νουν του. Να έμβη μέσα κάμε τον. Και ως που να συνέλθη όλως διόλου, πρόσεχε, ατάραχος να μένη. 2\n",
      "True Label: δημοτική\n",
      "Predicted Label: καθαρεύουσα\n",
      "\n",
      "Index: 264\n",
      "Text: Αντιγονίδες, Σελευκίδες και Θηρίκλεια, εκπώματα, ούτως ονομασθέντα τα μεν από των δύο βασιλέων, τα δε από του κατασκευάσαντος αυτά Θηρικλέους του Κορινθίου Αθήν. ΙΑ, 222, και 3\n",
      "True Label: δημοτική\n",
      "Predicted Label: καθαρεύουσα\n",
      "\n",
      "Index: 270\n",
      "Text: Είδαμε τέλος όλοι μακριά ένα μικρό χαμηλό πανάκι που αρμένιζε τον μαΐστρο. Δεν ήταν μεγαλήτερο από φούσκα και όμως εφάνηκε θεόρατο. Με μιας εζωντάνεψα. Όχι εγώ· όλοι μας. Και ο Σκοπελίτης ακόμα επήδησεν ορθός κ ερρίχτηκε στην τρόμπα που έκαμε να τρίξουν όλα της τα χάρβαλα. Αγαλλίασις εκυρίεψεν όλους· ενομίζαμε πως ήρθε η ώρα να πηδήσουμε στη στεριά. Δένουμε αμέσως τη σημαία κόμπο στο χαϊμαλί ψηλά και αρχίζουμε να φωνάζουμε, να φυσάμε τον κόχυλα και να κινούμε τις σκούφιες μας. Μόλις σαν χελιδονάκι που σιγοπετά προμηνώντας την άνοιξι εφαινόταν το καράβι ασώματο μακριά, λέγεις και ήταν της διψασμένης φαντασίας μας δημιούργημα. Και όμως επίστεψα πως μας είδε, πως άκουσε τις φωνές, εγνώρισε τον κίνδυνο κ ερχόταν βόλι καταπάνω μας. Ήρθε μάλιστα στιγμή που αφήσαμε μάρμαρο τις τρόμπες έτρεξε καθένας στην πλώρη για να εύρη τίποτα χρειαζούμενο να πάρη μαζί του. 2\n",
      "True Label: καθαρεύουσα\n",
      "Predicted Label: δημοτική\n",
      "\n",
      "Index: 272\n",
      "Text: Αυτήν δε την θέλησιν και τον έρωτα τον νομίζεις κοινόν εις όλους τους ανθρώπους, και φρονείς ότι όλοι θέλουν να έχουν ιδικά τους τα αγαθά διά παντός, ή άλλην έχεις ιδέαν; 2\n",
      "True Label: δημοτική\n",
      "Predicted Label: καθαρεύουσα\n",
      "\n",
      "Index: 290\n",
      "Text: Ξένος. Το άλλο μέρος όμως το τεχνικόν, το οποίον συζητεί διά τα δίκαια και άδικα και εν γένει όλα τα άλλα, άραγε δεν συνηθίζομεν να το ονομάζωμεν εριστικόν; 2\n",
      "True Label: δημοτική\n",
      "Predicted Label: καθαρεύουσα\n",
      "\n",
      "Index: 295\n",
      "Text: Λόρδος Γκόαριγκ.Γιατί βρέθηκε. Αν θες να μάθης την αλήθεια, τη βρήκα γω, και σαν βλάκας ξέχασα να πω τίποτε στον υπηρέτη την ώρα που έφευγα. Πηγαίνει στο γραφείο και τραβά τα συρτάρια. Είναι σ αυτό το συρτάρι. Όχι, στάλλο. Αυτή είναι η καρφίτσα, δεν είν αυτή; Την κρατάει ψηλά. 2\n",
      "True Label: καθαρεύουσα\n",
      "Predicted Label: δημοτική\n",
      "\n",
      "Index: 346\n",
      "Text: «Γιατί μιλάτε έτσι, ντον Πρέντου;» είπε ο Έφις με αξιοπρέπεια. «Το παλικάρι είναι ντόμπρο και καλό: δεν έχει ελαττώματα, δεν καπνίζει, δεν πίνει, δεν αγαπά τις γυναίκες. Θα κάνει περιουσία. Εάν το θελήσει μπορεί να βρει αμέσως δουλειά στο Νούορο. Έπειτα έχει και λεφτά στην τράπεζα.» 2\n",
      "True Label: δημοτική\n",
      "Predicted Label: κνε/λογοτεχνικό\n",
      "\n"
     ]
    }
   ],
   "source": [
    "# Identify the misclassified elements\n",
    "misclassified_indices = [i for i, (true, pred) in enumerate(zip(dev_labels_new, dev_preds_new)) if true != pred]\n",
    "\n",
    "# Retrieve the true labels, predicted labels, and corresponding text for misclassified elements\n",
    "misclassified_samples = [(i, dev_sentences[i], dev_labels_new[i], dev_preds_new[i]) for i in misclassified_indices]\n",
    "\n",
    "# Print out the misclassified samples with their corresponding text, true labels, and predicted labels\n",
    "print(\"Misclassified Samples:\")\n",
    "for index, text, true_label, pred_label in misclassified_samples:\n",
    "    true_str = new_category_map[true_label]\n",
    "    pred_str = new_category_map[pred_label]\n",
    "    print(f\"Index: {index}\\nText: {text}\\nTrue Label: {true_str}\\nPredicted Label: {pred_str}\\n\")\n"
   ]
  },
  {
   "cell_type": "code",
   "execution_count": 19,
   "id": "82d1f84c-a5b7-4d3c-afc6-e6851934d6e2",
   "metadata": {},
   "outputs": [
    {
     "name": "stdout",
     "output_type": "stream",
     "text": [
      "\n",
      "Training completed. Model saved and evaluation results recorded.\n"
     ]
    }
   ],
   "source": [
    "# Save additional training information\n",
    "with open(\"./saved_model/training_info.txt\", \"w\") as f:\n",
    "    f.write(f\"Total training steps: {trainer.state.global_step}\\n\")\n",
    "    f.write(f\"Training Loss: {train_result.metrics['train_loss']:.4f}\\n\")\n",
    "    f.write(f\"Validation Loss: {eval_result['eval_loss']:.4f}\\n\")\n",
    "    f.write(f\"Validation Accuracy: {eval_result['eval_accuracy']:.4f}\\n\")\n",
    "    f.write(f\"Dev Set Accuracy: {dev_accuracy:.4f}\\n\")\n",
    "    f.write(f\"Dev Set F1 Score: {dev_f1:.4f}\\n\")\n",
    "\n",
    "print(\"\\nTraining completed. Model saved and evaluation results recorded.\")"
   ]
  },
  {
   "cell_type": "code",
   "execution_count": 20,
   "id": "1e1d4c63-1b5a-40ba-8ebc-d521370cac2c",
   "metadata": {
    "tags": []
   },
   "outputs": [],
   "source": [
    "import pandas as pd\n",
    "import torch\n",
    "from transformers import AutoTokenizer\n",
    "from torch.utils.data import TensorDataset, DataLoader"
   ]
  },
  {
   "cell_type": "code",
   "execution_count": 21,
   "id": "4ff7e587-c254-4503-8a81-c0e5f76a28a3",
   "metadata": {
    "tags": []
   },
   "outputs": [
    {
     "name": "stdout",
     "output_type": "stream",
     "text": [
      "Using device: cuda\n"
     ]
    }
   ],
   "source": [
    "# Check if CUDA is available\n",
    "device = torch.device(\"cuda\" if torch.cuda.is_available() else \"cpu\")\n",
    "print(f\"Using device: {device}\")"
   ]
  },
  {
   "cell_type": "code",
   "execution_count": 22,
   "id": "b98ce23e-a0e1-4f82-9003-ebeb6d9c39a9",
   "metadata": {
    "tags": []
   },
   "outputs": [],
   "source": [
    "# Load the dataset\n",
    "df = pd.read_csv(\"../pca/twok_predicted_masked.csv\")\n",
    "\n",
    "loaded_model = BertForSequenceClassification.from_pretrained(\"./saved_model\", model_name_or_path=\"nlpaueb/bert-base-greek-uncased-v1\")\n",
    "loaded_model.to(device)  # Move the model to GPU if available\n",
    "loaded_tokenizer = AutoTokenizer.from_pretrained(\"./saved_model\")"
   ]
  },
  {
   "cell_type": "code",
   "execution_count": 23,
   "id": "74b71838-41d0-42ae-a30f-7e073e5ba560",
   "metadata": {
    "tags": []
   },
   "outputs": [],
   "source": [
    "# Tokenize all texts\n",
    "encodings = loaded_tokenizer(df['text'].tolist(), truncation=True, padding=True, max_length=512)\n",
    "dataset = TensorDataset(torch.tensor(encodings['input_ids']), \n",
    "                        torch.tensor(encodings['attention_mask']))\n",
    "dataloader = DataLoader(dataset, batch_size=32)  # Adjust batch size as needed\n",
    "\n",
    "# Make predictions\n",
    "loaded_model.eval()\n",
    "predictions = []"
   ]
  },
  {
   "cell_type": "code",
   "execution_count": 24,
   "id": "7ac6c1c6-aa39-4b6e-899a-e471913542f4",
   "metadata": {
    "tags": []
   },
   "outputs": [],
   "source": [
    "with torch.no_grad():\n",
    "    for batch in dataloader:\n",
    "        input_ids, attention_mask = [b.to(device) for b in batch]\n",
    "        outputs = loaded_model(input_ids, attention_mask=attention_mask)\n",
    "        logits = outputs\n",
    "        preds = torch.argmax(logits, dim=1)\n",
    "        predictions.extend(preds.cpu().numpy())"
   ]
  },
  {
   "cell_type": "code",
   "execution_count": 25,
   "id": "980a6763-1cd0-4f6a-b720-56c5f1beede2",
   "metadata": {
    "tags": []
   },
   "outputs": [],
   "source": [
    "# Define category mapping\n",
    "category_map = {\n",
    "    0: 'αρχαία/προμεσαιωνική',\n",
    "    1: 'κνε/λογοτεχνικό',\n",
    "    2: 'δημοτική',\n",
    "    3: 'καθαρεύουσα'\n",
    "}"
   ]
  },
  {
   "cell_type": "code",
   "execution_count": 26,
   "id": "92b0d297-6748-4729-89d4-afea7605d828",
   "metadata": {
    "tags": []
   },
   "outputs": [],
   "source": [
    "# Create results DataFrame\n",
    "results_df = pd.DataFrame({\n",
    "    'text': df['text'],\n",
    "    'mask': df['mask'],\n",
    "    'ποικιλία': [category_map[pred] if mask == 1 else \"---\" for pred, mask in zip(predictions, df['mask'])]\n",
    "})"
   ]
  },
  {
   "cell_type": "code",
   "execution_count": 27,
   "id": "eec49e5b-3a6e-45a0-a649-8a4f7fa62568",
   "metadata": {
    "tags": []
   },
   "outputs": [
    {
     "name": "stdout",
     "output_type": "stream",
     "text": [
      "Processed 2000 rows.\n",
      "Results saved to 'predictions_with_greek_categories.csv'\n"
     ]
    }
   ],
   "source": [
    "# Save results\n",
    "results_df.to_csv(\"twok_classified.csv\", index=False)\n",
    "\n",
    "print(f\"Processed {len(df)} rows.\")\n",
    "print(\"Results saved to 'predictions_with_greek_categories.csv'\")"
   ]
  },
  {
   "cell_type": "code",
   "execution_count": null,
   "id": "973c0b69-0509-4ff3-b90b-27eca1d4a3ef",
   "metadata": {},
   "outputs": [],
   "source": []
  }
 ],
 "metadata": {
  "kernelspec": {
   "display_name": "Python 3 (ipykernel)",
   "language": "python",
   "name": "python3"
  },
  "language_info": {
   "codemirror_mode": {
    "name": "ipython",
    "version": 3
   },
   "file_extension": ".py",
   "mimetype": "text/x-python",
   "name": "python",
   "nbconvert_exporter": "python",
   "pygments_lexer": "ipython3",
   "version": "3.11.7"
  }
 },
 "nbformat": 4,
 "nbformat_minor": 5
}
